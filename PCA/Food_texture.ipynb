{
 "cells": [
  {
   "cell_type": "markdown",
   "metadata": {},
   "source": [
    "# PCA Exercises - Room temperature data\n",
    "# Own implementation"
   ]
  },
  {
   "cell_type": "code",
   "execution_count": 12,
   "metadata": {},
   "outputs": [],
   "source": [
    "import numpy as np\n",
    "import pandas as pd\n",
    "import matplotlib.pyplot as plt\n",
    "import seaborn as sns\n",
    "from typing import Tuple\n",
    "sns.set(style=\"ticks\")"
   ]
  },
  {
   "cell_type": "code",
   "execution_count": 6,
   "metadata": {},
   "outputs": [
    {
     "data": {
      "text/html": [
       "<div>\n",
       "<style scoped>\n",
       "    .dataframe tbody tr th:only-of-type {\n",
       "        vertical-align: middle;\n",
       "    }\n",
       "\n",
       "    .dataframe tbody tr th {\n",
       "        vertical-align: top;\n",
       "    }\n",
       "\n",
       "    .dataframe thead th {\n",
       "        text-align: right;\n",
       "    }\n",
       "</style>\n",
       "<table border=\"1\" class=\"dataframe\">\n",
       "  <thead>\n",
       "    <tr style=\"text-align: right;\">\n",
       "      <th></th>\n",
       "      <th>Date</th>\n",
       "      <th>FrontLeft</th>\n",
       "      <th>FrontRight</th>\n",
       "      <th>BackLeft</th>\n",
       "      <th>BackRight</th>\n",
       "    </tr>\n",
       "  </thead>\n",
       "  <tbody>\n",
       "    <tr>\n",
       "      <th>0</th>\n",
       "      <td>4/11/2010 11:30</td>\n",
       "      <td>295.2</td>\n",
       "      <td>297.0</td>\n",
       "      <td>295.8</td>\n",
       "      <td>296.3</td>\n",
       "    </tr>\n",
       "    <tr>\n",
       "      <th>1</th>\n",
       "      <td>4/11/2010 12:00</td>\n",
       "      <td>296.2</td>\n",
       "      <td>296.4</td>\n",
       "      <td>296.2</td>\n",
       "      <td>296.3</td>\n",
       "    </tr>\n",
       "    <tr>\n",
       "      <th>2</th>\n",
       "      <td>4/11/2010 12:30</td>\n",
       "      <td>297.3</td>\n",
       "      <td>297.5</td>\n",
       "      <td>296.7</td>\n",
       "      <td>297.1</td>\n",
       "    </tr>\n",
       "    <tr>\n",
       "      <th>3</th>\n",
       "      <td>4/11/2010 13:00</td>\n",
       "      <td>295.9</td>\n",
       "      <td>296.7</td>\n",
       "      <td>297.4</td>\n",
       "      <td>297.0</td>\n",
       "    </tr>\n",
       "    <tr>\n",
       "      <th>4</th>\n",
       "      <td>4/11/2010 13:30</td>\n",
       "      <td>297.2</td>\n",
       "      <td>296.5</td>\n",
       "      <td>297.6</td>\n",
       "      <td>297.4</td>\n",
       "    </tr>\n",
       "  </tbody>\n",
       "</table>\n",
       "</div>"
      ],
      "text/plain": [
       "              Date  FrontLeft  FrontRight  BackLeft  BackRight\n",
       "0  4/11/2010 11:30      295.2       297.0     295.8      296.3\n",
       "1  4/11/2010 12:00      296.2       296.4     296.2      296.3\n",
       "2  4/11/2010 12:30      297.3       297.5     296.7      297.1\n",
       "3  4/11/2010 13:00      295.9       296.7     297.4      297.0\n",
       "4  4/11/2010 13:30      297.2       296.5     297.6      297.4"
      ]
     },
     "execution_count": 6,
     "metadata": {},
     "output_type": "execute_result"
    }
   ],
   "source": [
    "df = pd.read_csv('data_sets/room-temperature.csv')\n",
    "df.head()"
   ]
  },
  {
   "cell_type": "markdown",
   "metadata": {},
   "source": [
    "## Preprocessing the data  "
   ]
  },
  {
   "cell_type": "code",
   "execution_count": 7,
   "metadata": {},
   "outputs": [
    {
     "data": {
      "text/html": [
       "<div>\n",
       "<style scoped>\n",
       "    .dataframe tbody tr th:only-of-type {\n",
       "        vertical-align: middle;\n",
       "    }\n",
       "\n",
       "    .dataframe tbody tr th {\n",
       "        vertical-align: top;\n",
       "    }\n",
       "\n",
       "    .dataframe thead th {\n",
       "        text-align: right;\n",
       "    }\n",
       "</style>\n",
       "<table border=\"1\" class=\"dataframe\">\n",
       "  <thead>\n",
       "    <tr style=\"text-align: right;\">\n",
       "      <th></th>\n",
       "      <th>FrontLeft</th>\n",
       "      <th>FrontRight</th>\n",
       "      <th>BackLeft</th>\n",
       "      <th>BackRight</th>\n",
       "    </tr>\n",
       "    <tr>\n",
       "      <th>Date</th>\n",
       "      <th></th>\n",
       "      <th></th>\n",
       "      <th></th>\n",
       "      <th></th>\n",
       "    </tr>\n",
       "  </thead>\n",
       "  <tbody>\n",
       "    <tr>\n",
       "      <th>4/11/2010 11:30</th>\n",
       "      <td>295.2</td>\n",
       "      <td>297.0</td>\n",
       "      <td>295.8</td>\n",
       "      <td>296.3</td>\n",
       "    </tr>\n",
       "    <tr>\n",
       "      <th>4/11/2010 12:00</th>\n",
       "      <td>296.2</td>\n",
       "      <td>296.4</td>\n",
       "      <td>296.2</td>\n",
       "      <td>296.3</td>\n",
       "    </tr>\n",
       "    <tr>\n",
       "      <th>4/11/2010 12:30</th>\n",
       "      <td>297.3</td>\n",
       "      <td>297.5</td>\n",
       "      <td>296.7</td>\n",
       "      <td>297.1</td>\n",
       "    </tr>\n",
       "    <tr>\n",
       "      <th>4/11/2010 13:00</th>\n",
       "      <td>295.9</td>\n",
       "      <td>296.7</td>\n",
       "      <td>297.4</td>\n",
       "      <td>297.0</td>\n",
       "    </tr>\n",
       "    <tr>\n",
       "      <th>4/11/2010 13:30</th>\n",
       "      <td>297.2</td>\n",
       "      <td>296.5</td>\n",
       "      <td>297.6</td>\n",
       "      <td>297.4</td>\n",
       "    </tr>\n",
       "  </tbody>\n",
       "</table>\n",
       "</div>"
      ],
      "text/plain": [
       "                 FrontLeft  FrontRight  BackLeft  BackRight\n",
       "Date                                                       \n",
       "4/11/2010 11:30      295.2       297.0     295.8      296.3\n",
       "4/11/2010 12:00      296.2       296.4     296.2      296.3\n",
       "4/11/2010 12:30      297.3       297.5     296.7      297.1\n",
       "4/11/2010 13:00      295.9       296.7     297.4      297.0\n",
       "4/11/2010 13:30      297.2       296.5     297.6      297.4"
      ]
     },
     "execution_count": 7,
     "metadata": {},
     "output_type": "execute_result"
    }
   ],
   "source": [
    "df = df.set_index('Date', drop=True)\n",
    "df.head()"
   ]
  },
  {
   "cell_type": "code",
   "execution_count": 8,
   "metadata": {},
   "outputs": [
    {
     "data": {
      "text/html": [
       "<div>\n",
       "<style scoped>\n",
       "    .dataframe tbody tr th:only-of-type {\n",
       "        vertical-align: middle;\n",
       "    }\n",
       "\n",
       "    .dataframe tbody tr th {\n",
       "        vertical-align: top;\n",
       "    }\n",
       "\n",
       "    .dataframe thead th {\n",
       "        text-align: right;\n",
       "    }\n",
       "</style>\n",
       "<table border=\"1\" class=\"dataframe\">\n",
       "  <thead>\n",
       "    <tr style=\"text-align: right;\">\n",
       "      <th></th>\n",
       "      <th>FrontLeft</th>\n",
       "      <th>FrontRight</th>\n",
       "      <th>BackLeft</th>\n",
       "      <th>BackRight</th>\n",
       "    </tr>\n",
       "  </thead>\n",
       "  <tbody>\n",
       "    <tr>\n",
       "      <th>count</th>\n",
       "      <td>144.000000</td>\n",
       "      <td>144.000000</td>\n",
       "      <td>144.00000</td>\n",
       "      <td>144.000000</td>\n",
       "    </tr>\n",
       "    <tr>\n",
       "      <th>mean</th>\n",
       "      <td>294.507639</td>\n",
       "      <td>294.628472</td>\n",
       "      <td>295.06250</td>\n",
       "      <td>294.977083</td>\n",
       "    </tr>\n",
       "    <tr>\n",
       "      <th>std</th>\n",
       "      <td>1.644532</td>\n",
       "      <td>1.715118</td>\n",
       "      <td>1.58771</td>\n",
       "      <td>1.647533</td>\n",
       "    </tr>\n",
       "    <tr>\n",
       "      <th>min</th>\n",
       "      <td>290.200000</td>\n",
       "      <td>291.100000</td>\n",
       "      <td>291.90000</td>\n",
       "      <td>292.100000</td>\n",
       "    </tr>\n",
       "    <tr>\n",
       "      <th>25%</th>\n",
       "      <td>293.100000</td>\n",
       "      <td>293.300000</td>\n",
       "      <td>293.67500</td>\n",
       "      <td>293.475000</td>\n",
       "    </tr>\n",
       "    <tr>\n",
       "      <th>50%</th>\n",
       "      <td>294.400000</td>\n",
       "      <td>294.400000</td>\n",
       "      <td>295.10000</td>\n",
       "      <td>295.000000</td>\n",
       "    </tr>\n",
       "    <tr>\n",
       "      <th>75%</th>\n",
       "      <td>295.800000</td>\n",
       "      <td>295.800000</td>\n",
       "      <td>296.32500</td>\n",
       "      <td>296.500000</td>\n",
       "    </tr>\n",
       "    <tr>\n",
       "      <th>max</th>\n",
       "      <td>298.100000</td>\n",
       "      <td>299.000000</td>\n",
       "      <td>297.60000</td>\n",
       "      <td>298.200000</td>\n",
       "    </tr>\n",
       "  </tbody>\n",
       "</table>\n",
       "</div>"
      ],
      "text/plain": [
       "        FrontLeft  FrontRight   BackLeft   BackRight\n",
       "count  144.000000  144.000000  144.00000  144.000000\n",
       "mean   294.507639  294.628472  295.06250  294.977083\n",
       "std      1.644532    1.715118    1.58771    1.647533\n",
       "min    290.200000  291.100000  291.90000  292.100000\n",
       "25%    293.100000  293.300000  293.67500  293.475000\n",
       "50%    294.400000  294.400000  295.10000  295.000000\n",
       "75%    295.800000  295.800000  296.32500  296.500000\n",
       "max    298.100000  299.000000  297.60000  298.200000"
      ]
     },
     "execution_count": 8,
     "metadata": {},
     "output_type": "execute_result"
    }
   ],
   "source": [
    "df.describe()"
   ]
  },
  {
   "cell_type": "code",
   "execution_count": 9,
   "metadata": {},
   "outputs": [
    {
     "data": {
      "image/png": "[encoded data removed]",
      "text/plain": [
       "<Figure size 720x720 with 20 Axes>"
      ]
     },
     "metadata": {
      "needs_background": "light"
     },
     "output_type": "display_data"
    }
   ],
   "source": [
    "sns.pairplot(df)\n",
    "plt.show()"
   ]
  },
  {
   "cell_type": "code",
   "execution_count": 10,
   "metadata": {},
   "outputs": [
    {
     "data": {
      "text/html": [
       "<div>\n",
       "<style scoped>\n",
       "    .dataframe tbody tr th:only-of-type {\n",
       "        vertical-align: middle;\n",
       "    }\n",
       "\n",
       "    .dataframe tbody tr th {\n",
       "        vertical-align: top;\n",
       "    }\n",
       "\n",
       "    .dataframe thead th {\n",
       "        text-align: right;\n",
       "    }\n",
       "</style>\n",
       "<table border=\"1\" class=\"dataframe\">\n",
       "  <thead>\n",
       "    <tr style=\"text-align: right;\">\n",
       "      <th></th>\n",
       "      <th>FrontLeft</th>\n",
       "      <th>FrontRight</th>\n",
       "      <th>BackLeft</th>\n",
       "      <th>BackRight</th>\n",
       "    </tr>\n",
       "  </thead>\n",
       "  <tbody>\n",
       "    <tr>\n",
       "      <th>count</th>\n",
       "      <td>1.440000e+02</td>\n",
       "      <td>1.440000e+02</td>\n",
       "      <td>1.440000e+02</td>\n",
       "      <td>1.440000e+02</td>\n",
       "    </tr>\n",
       "    <tr>\n",
       "      <th>mean</th>\n",
       "      <td>-4.810966e-16</td>\n",
       "      <td>-2.731611e-15</td>\n",
       "      <td>1.270589e-15</td>\n",
       "      <td>5.970533e-15</td>\n",
       "    </tr>\n",
       "    <tr>\n",
       "      <th>std</th>\n",
       "      <td>1.000000e+00</td>\n",
       "      <td>1.000000e+00</td>\n",
       "      <td>1.000000e+00</td>\n",
       "      <td>1.000000e+00</td>\n",
       "    </tr>\n",
       "    <tr>\n",
       "      <th>min</th>\n",
       "      <td>-2.619370e+00</td>\n",
       "      <td>-2.057276e+00</td>\n",
       "      <td>-1.991863e+00</td>\n",
       "      <td>-1.746297e+00</td>\n",
       "    </tr>\n",
       "    <tr>\n",
       "      <th>25%</th>\n",
       "      <td>-8.559509e-01</td>\n",
       "      <td>-7.745659e-01</td>\n",
       "      <td>-8.739004e-01</td>\n",
       "      <td>-9.117165e-01</td>\n",
       "    </tr>\n",
       "    <tr>\n",
       "      <th>50%</th>\n",
       "      <td>-6.545258e-02</td>\n",
       "      <td>-1.332108e-01</td>\n",
       "      <td>2.361893e-02</td>\n",
       "      <td>1.390968e-02</td>\n",
       "    </tr>\n",
       "    <tr>\n",
       "      <th>75%</th>\n",
       "      <td>7.858533e-01</td>\n",
       "      <td>6.830594e-01</td>\n",
       "      <td>7.951706e-01</td>\n",
       "      <td>9.243616e-01</td>\n",
       "    </tr>\n",
       "    <tr>\n",
       "      <th>max</th>\n",
       "      <td>2.184427e+00</td>\n",
       "      <td>2.548820e+00</td>\n",
       "      <td>1.598214e+00</td>\n",
       "      <td>1.956207e+00</td>\n",
       "    </tr>\n",
       "  </tbody>\n",
       "</table>\n",
       "</div>"
      ],
      "text/plain": [
       "          FrontLeft    FrontRight      BackLeft     BackRight\n",
       "count  1.440000e+02  1.440000e+02  1.440000e+02  1.440000e+02\n",
       "mean  -4.810966e-16 -2.731611e-15  1.270589e-15  5.970533e-15\n",
       "std    1.000000e+00  1.000000e+00  1.000000e+00  1.000000e+00\n",
       "min   -2.619370e+00 -2.057276e+00 -1.991863e+00 -1.746297e+00\n",
       "25%   -8.559509e-01 -7.745659e-01 -8.739004e-01 -9.117165e-01\n",
       "50%   -6.545258e-02 -1.332108e-01  2.361893e-02  1.390968e-02\n",
       "75%    7.858533e-01  6.830594e-01  7.951706e-01  9.243616e-01\n",
       "max    2.184427e+00  2.548820e+00  1.598214e+00  1.956207e+00"
      ]
     },
     "execution_count": 10,
     "metadata": {},
     "output_type": "execute_result"
    }
   ],
   "source": [
    "df = df.apply(lambda x: x-x.mean())  # centering\n",
    "df = df.apply(lambda x: x/x.std())  # scaling\n",
    "df.describe()"
   ]
  },
  {
   "cell_type": "code",
   "execution_count": 11,
   "metadata": {},
   "outputs": [
    {
     "data": {
      "image/png": "[encoded data removed]",
      "text/plain": [
       "<Figure size 720x720 with 20 Axes>"
      ]
     },
     "metadata": {
      "needs_background": "light"
     },
     "output_type": "display_data"
    }
   ],
   "source": [
    "sns.pairplot(df)\n",
    "plt.show()"
   ]
  },
  {
   "cell_type": "markdown",
   "metadata": {},
   "source": [
    "## Building the own model \n"
   ]
  },
  {
   "cell_type": "code",
   "execution_count": 263,
   "metadata": {},
   "outputs": [],
   "source": [
    "df_array = df.to_numpy()\n",
    "\n",
    "def sort_singular_vectors(s_ascending_indices: np.array, u: np.array) -> np.array:\n",
    "    all_indices = np.arange(u.shape[0])\n",
    "    all_indices_without_s_indices = np.delete(all_indecies, s_ascending_indices, axis=0)\n",
    "    all_indices_orderd = np.concatenate((s_ascending_indices, all_indices_without_s_indices), axis=None)\n",
    "    return u[all_indices_orderd, :]\n",
    "\n",
    "\n",
    "def svd(x: np.array) -> Tuple[np.array, np.array, np.array]:\n",
    "    \"\"\" Conduct the Singular Value Decomposiition\"\"\"\n",
    "    N = x.shape[0]\n",
    "    D = x.shape[1]\n",
    "    xTx = x.T.dot(x)\n",
    "    xxT = x.dot(x.T)\n",
    "    s_sq, v = np.linalg.eig(xTx)  \n",
    "    _,    u = np.linalg.eig(xxT)\n",
    "    s_ascending_indices = np.flip(np.argsort(s_sq))\n",
    "    s_sq = s_sq[s_ascending_indices]    \n",
    "    s = np.pad(np.diag(np.sqrt(s_sq)), [(0, N - D), (0, 0)], 'constant')\n",
    "    v = v[s_ascending_indices, :]  # sort according to eigenvalues\n",
    "    u = sort_singular_vectors(s_ascending_indices, u)\n",
    "    return u, s, v\n",
    "\n",
    "class OwnPCA:\n",
    "    def __init__(self, component_no: int):\n",
    "        self.component_no = component_no\n",
    "        self._u = None\n",
    "        self._s = None\n",
    "        self._v = None\n",
    "        \n",
    "    def fit_transform(self, arr: np.array):\n",
    "        u, s, v = svd(arr)\n",
    "        self._u = u[:self.component_no]\n",
    "        self._s = s[:self.component_no, :self.component_no]\n",
    "        self._v = v[:self.component_no]\n",
    "        return u, s, v\n",
    "    "
   ]
  },
  {
   "cell_type": "code",
   "execution_count": 229,
   "metadata": {},
   "outputs": [],
   "source": [
    "n_components = 3\n",
    "own_pca = OwnPCA(n_components)\n",
    "u, s, v = own_pca.fit_transform(df_array)"
   ]
  },
  {
   "cell_type": "code",
   "execution_count": 230,
   "metadata": {},
   "outputs": [],
   "source": [
    "a = np.pad(np.array([[2,4], [1,3]]), ((0, 2), (0,0)), 'constant')"
   ]
  },
  {
   "cell_type": "code",
   "execution_count": 231,
   "metadata": {},
   "outputs": [
    {
     "data": {
      "text/plain": [
       "array([[2, 4],\n",
       "       [1, 3],\n",
       "       [0, 0],\n",
       "       [0, 0]])"
      ]
     },
     "execution_count": 231,
     "metadata": {},
     "output_type": "execute_result"
    }
   ],
   "source": [
    "a"
   ]
  },
  {
   "cell_type": "code",
   "execution_count": 264,
   "metadata": {},
   "outputs": [
    {
     "data": {
      "text/plain": [
       "(array([[ 0.57604844,  0.81741556,  0.        ,  0.        ],\n",
       "        [ 0.81741556, -0.57604844,  0.        ,  0.        ],\n",
       "        [ 0.        ,  0.        ,  1.        ,  0.        ],\n",
       "        [ 0.        ,  0.        ,  0.        ,  1.        ]]),\n",
       " array([[5.4649857 , 0.        ],\n",
       "        [0.        , 0.36596619],\n",
       "        [0.        , 0.        ],\n",
       "        [0.        , 0.        ]]),\n",
       " array([[ 0.40455358, -0.9145143 ],\n",
       "        [-0.9145143 , -0.40455358]]))"
      ]
     },
     "execution_count": 264,
     "metadata": {},
     "output_type": "execute_result"
    }
   ],
   "source": [
    "u, s, v = svd(a)\n",
    "svd(a)"
   ]
  },
  {
   "cell_type": "code",
   "execution_count": 234,
   "metadata": {},
   "outputs": [
    {
     "data": {
      "text/plain": [
       "array([[ 0.57604844,  0.81741556,  0.        ,  0.        ],\n",
       "       [ 0.81741556, -0.57604844,  0.        ,  0.        ]])"
      ]
     },
     "execution_count": 234,
     "metadata": {},
     "output_type": "execute_result"
    }
   ],
   "source": [
    "u"
   ]
  },
  {
   "cell_type": "code",
   "execution_count": 268,
   "metadata": {},
   "outputs": [
    {
     "data": {
      "text/plain": [
       "array([[ 0.81741556, -0.57604844,  0.        ,  0.        ],\n",
       "       [ 0.57604844,  0.81741556,  0.        ,  0.        ],\n",
       "       [ 0.        ,  0.        ,  1.        ,  0.        ],\n",
       "       [ 0.        ,  0.        ,  0.        ,  1.        ]])"
      ]
     },
     "metadata": {},
     "output_type": "display_data"
    },
    {
     "data": {
      "text/plain": [
       "array([[5.4649857 , 0.        ],\n",
       "       [0.        , 0.36596619],\n",
       "       [0.        , 0.        ],\n",
       "       [0.        , 0.        ]])"
      ]
     },
     "metadata": {},
     "output_type": "display_data"
    },
    {
     "data": {
      "text/plain": [
       "array([[-0.9145143 , -0.40455358],\n",
       "       [ 0.40455358, -0.9145143 ]])"
      ]
     },
     "metadata": {},
     "output_type": "display_data"
    },
    {
     "data": {
      "text/plain": [
       "array([[ 0.57604844,  0.81741556,  0.        ,  0.        ],\n",
       "       [ 0.81741556, -0.57604844,  0.        ,  0.        ]])"
      ]
     },
     "execution_count": 268,
     "metadata": {},
     "output_type": "execute_result"
    }
   ],
   "source": [
    "s_sq, v = np.linalg.eig(xTx)  \n",
    "_,    u = np.linalg.eig(xxT)\n",
    "s_ascending_indices = np.flip(np.argsort(s_sq))\n",
    "s_sq = s_sq[s_ascending_indices]    \n",
    "s = np.pad(np.diag(np.sqrt(s_sq)), [(0, N - D), (0, 0)], 'constant')\n",
    "tmp = u\n",
    "display(u)\n",
    "display(s)\n",
    "display(v)\n",
    "\n",
    "v = v[s_ascending_indices, :]  # sort according to eigenvalues\n",
    "u = u[s_ascending_indices, :] # sort according to eigenvalues\n",
    "u"
   ]
  },
  {
   "cell_type": "code",
   "execution_count": null,
   "metadata": {},
   "outputs": [],
   "source": [
    "def sort_singular_vectors(s_ascending_indices: np.array, u: np.array) -> np.array:\n",
    "    all_indices = np.arange(u.shape[0])\n",
    "    all_indices_without_s_indices = np.delete(all_indecies, s_ascending_indices, axis=0)\n",
    "    all_indices_orderd = np.concatenate((s_ascending_indices, all_indices_without_s_indices), axis=None)\n",
    "    return u[all_indices_orderd, :]\n"
   ]
  },
  {
   "cell_type": "code",
   "execution_count": 265,
   "metadata": {},
   "outputs": [
    {
     "data": {
      "text/plain": [
       "array([[ 0.81741556, -0.57604844,  0.        ,  0.        ],\n",
       "       [ 0.57604844,  0.81741556,  0.        ,  0.        ],\n",
       "       [ 0.        ,  0.        ,  1.        ,  0.        ],\n",
       "       [ 0.        ,  0.        ,  0.        ,  1.        ]])"
      ]
     },
     "metadata": {},
     "output_type": "display_data"
    },
    {
     "data": {
      "text/plain": [
       "array([[ 0.57604844,  0.81741556,  0.        ,  0.        ],\n",
       "       [ 0.81741556, -0.57604844,  0.        ,  0.        ],\n",
       "       [ 0.        ,  0.        ,  1.        ,  0.        ],\n",
       "       [ 0.        ,  0.        ,  0.        ,  1.        ]])"
      ]
     },
     "metadata": {},
     "output_type": "display_data"
    }
   ],
   "source": [
    "u = tmp\n",
    "all_indecies = np.arange(u.shape[0])\n",
    "all_indecies = np.delete(all_indecies, s_ascending_indecies, axis=0)\n",
    "all_indecies = np.concatenate((s_ascending_indecies, all_indecies), axis=None)\n",
    "all_indecies\n",
    "display(u)\n",
    "display(u[all_indecies, :])"
   ]
  },
  {
   "cell_type": "code",
   "execution_count": 256,
   "metadata": {},
   "outputs": [
    {
     "data": {
      "text/plain": [
       "(array([2]),)"
      ]
     },
     "execution_count": 256,
     "metadata": {},
     "output_type": "execute_result"
    }
   ],
   "source": [
    "np.where(all_indecies == 2)"
   ]
  },
  {
   "cell_type": "code",
   "execution_count": 258,
   "metadata": {},
   "outputs": [
    {
     "data": {
      "text/plain": [
       "array([1, 0])"
      ]
     },
     "execution_count": 258,
     "metadata": {},
     "output_type": "execute_result"
    }
   ],
   "source": [
    "s_ascending_indecies"
   ]
  },
  {
   "cell_type": "code",
   "execution_count": 223,
   "metadata": {},
   "outputs": [
    {
     "data": {
      "text/plain": [
       "array([29.86606875,  0.13393125])"
      ]
     },
     "metadata": {},
     "output_type": "display_data"
    },
    {
     "data": {
      "text/plain": [
       "array([[-0.9145143 , -0.40455358],\n",
       "       [ 0.40455358, -0.9145143 ]])"
      ]
     },
     "execution_count": 223,
     "metadata": {},
     "output_type": "execute_result"
    }
   ],
   "source": [
    "s_sq, v = np.linalg.eig(xTx) \n",
    "s_ascending_indecies = np.flip(np.argsort(s_sq))\n",
    "display(s_sq[s_ascending_indecies])\n",
    "v"
   ]
  },
  {
   "cell_type": "code",
   "execution_count": 211,
   "metadata": {},
   "outputs": [
    {
     "data": {
      "text/plain": [
       "array([ 0.13393125, 29.86606875])"
      ]
     },
     "execution_count": 211,
     "metadata": {},
     "output_type": "execute_result"
    }
   ],
   "source": [
    "s_sq"
   ]
  },
  {
   "cell_type": "code",
   "execution_count": 212,
   "metadata": {},
   "outputs": [
    {
     "data": {
      "text/plain": [
       "array([5, 2, 3, 4])"
      ]
     },
     "execution_count": 212,
     "metadata": {},
     "output_type": "execute_result"
    }
   ],
   "source": [
    "z[0] = 5\n",
    "z_arg_sort = np.argsort(z)\n",
    "\n",
    "z"
   ]
  },
  {
   "cell_type": "code",
   "execution_count": 213,
   "metadata": {},
   "outputs": [
    {
     "data": {
      "text/plain": [
       "array([2, 3, 4, 5])"
      ]
     },
     "execution_count": 213,
     "metadata": {},
     "output_type": "execute_result"
    }
   ],
   "source": [
    "z[z_arg_sort]"
   ]
  },
  {
   "cell_type": "code",
   "execution_count": null,
   "metadata": {},
   "outputs": [],
   "source": []
  },
  {
   "cell_type": "code",
   "execution_count": null,
   "metadata": {},
   "outputs": [],
   "source": []
  },
  {
   "cell_type": "code",
   "execution_count": 214,
   "metadata": {},
   "outputs": [],
   "source": [
    "xTx = a.T.dot(a)\n",
    "N = a.shape[0]\n",
    "D = a.shape[1]"
   ]
  },
  {
   "cell_type": "code",
   "execution_count": 215,
   "metadata": {},
   "outputs": [
    {
     "data": {
      "text/plain": [
       "array([[5.4649857 , 0.        ],\n",
       "       [0.        , 0.36596619],\n",
       "       [0.        , 0.        ],\n",
       "       [0.        , 0.        ]])"
      ]
     },
     "execution_count": 215,
     "metadata": {},
     "output_type": "execute_result"
    }
   ],
   "source": [
    "s_sq, v = np.linalg.eigh(xTx) \n",
    "s_sq = np.flip(s_sq)  # eigenvalues was ascending\n",
    "s = np.pad(np.diag(np.sqrt(s_sq)), [(0, N - D), (0, 0)], 'constant')\n",
    "s"
   ]
  },
  {
   "cell_type": "code",
   "execution_count": 216,
   "metadata": {},
   "outputs": [
    {
     "data": {
      "text/plain": [
       "array([[ 0.40455358, -0.9145143 ],\n",
       "       [ 0.9145143 ,  0.40455358]])"
      ]
     },
     "metadata": {},
     "output_type": "display_data"
    }
   ],
   "source": [
    "s_sq, v = np.linalg.eigh(xTx) \n",
    "v = v  # sort according to eigenvalues\n",
    "v = np.fliplr(v)\n",
    "display(v)\n"
   ]
  },
  {
   "cell_type": "code",
   "execution_count": 217,
   "metadata": {},
   "outputs": [
    {
     "data": {
      "text/plain": [
       "array([[ 0.        ,  0.        , -0.57604844,  0.81741556],\n",
       "       [ 0.        ,  0.        ,  0.81741556,  0.57604844],\n",
       "       [ 0.        ,  1.        ,  0.        ,  0.        ],\n",
       "       [ 1.        ,  0.        ,  0.        ,  0.        ]])"
      ]
     },
     "metadata": {},
     "output_type": "display_data"
    }
   ],
   "source": [
    "xxT = a.dot(a.T)\n",
    "\n",
    "_,    u = np.linalg.eig(xxT)\n",
    "u = np.fliplr(u)\n",
    "display(u)\n"
   ]
  },
  {
   "cell_type": "code",
   "execution_count": 218,
   "metadata": {},
   "outputs": [
    {
     "data": {
      "text/plain": [
       "array([[ 0.        ,  0.        ],\n",
       "       [ 0.        ,  0.        ],\n",
       "       [-0.33468131,  0.14805293],\n",
       "       [ 2.21087956,  4.99780755]])"
      ]
     },
     "execution_count": 218,
     "metadata": {},
     "output_type": "execute_result"
    }
   ],
   "source": [
    "u.dot(s.dot(v.T))"
   ]
  },
  {
   "cell_type": "code",
   "execution_count": 219,
   "metadata": {},
   "outputs": [
    {
     "data": {
      "text/plain": [
       "(array([[ 0.57604844,  0.81741556,  0.        ,  0.        ],\n",
       "        [ 0.81741556, -0.57604844,  0.        ,  0.        ]]),\n",
       " array([[5.4649857 , 0.        ],\n",
       "        [0.        , 0.36596619],\n",
       "        [0.        , 0.        ],\n",
       "        [0.        , 0.        ]]),\n",
       " array([[ 0.40455358, -0.9145143 ],\n",
       "        [-0.9145143 , -0.40455358]]))"
      ]
     },
     "execution_count": 219,
     "metadata": {},
     "output_type": "execute_result"
    }
   ],
   "source": [
    "svd(a)"
   ]
  },
  {
   "cell_type": "code",
   "execution_count": 121,
   "metadata": {},
   "outputs": [
    {
     "data": {
      "text/plain": [
       "array([[1, 2],\n",
       "       [3, 4],\n",
       "       [0, 0],\n",
       "       [0, 0],\n",
       "       [0, 0],\n",
       "       [0, 0]])"
      ]
     },
     "execution_count": 121,
     "metadata": {},
     "output_type": "execute_result"
    }
   ],
   "source": [
    "N = 4\n",
    "np.pad(a, [(0, N), (0, 0)], 'constant')"
   ]
  },
  {
   "cell_type": "code",
   "execution_count": 122,
   "metadata": {},
   "outputs": [
    {
     "data": {
      "text/plain": [
       "(144, 144)"
      ]
     },
     "execution_count": 122,
     "metadata": {},
     "output_type": "execute_result"
    }
   ],
   "source": [
    "u.shape"
   ]
  },
  {
   "cell_type": "code",
   "execution_count": 123,
   "metadata": {},
   "outputs": [
    {
     "data": {
      "text/plain": [
       "(144, 4)"
      ]
     },
     "execution_count": 123,
     "metadata": {},
     "output_type": "execute_result"
    }
   ],
   "source": [
    "s.shape"
   ]
  },
  {
   "cell_type": "code",
   "execution_count": 124,
   "metadata": {},
   "outputs": [
    {
     "data": {
      "text/plain": [
       "(4, 4)"
      ]
     },
     "execution_count": 124,
     "metadata": {},
     "output_type": "execute_result"
    }
   ],
   "source": [
    "v.shape"
   ]
  },
  {
   "cell_type": "code",
   "execution_count": 131,
   "metadata": {},
   "outputs": [],
   "source": [
    "x_approx = u.dot(s).dot(v.T)"
   ]
  },
  {
   "cell_type": "code",
   "execution_count": 132,
   "metadata": {},
   "outputs": [
    {
     "data": {
      "text/plain": [
       "array([[ 0.49127375,  0.50211307,  0.49486494,  0.51150881],\n",
       "       [-0.5308801 , -0.47235221,  0.53968805,  0.4514272 ],\n",
       "       [ 0.68995833, -0.71672467,  0.09011509, -0.04628735]])"
      ]
     },
     "execution_count": 132,
     "metadata": {},
     "output_type": "execute_result"
    }
   ],
   "source": [
    "from sklearn.decomposition import PCA\n",
    "\n",
    "pca = PCA(n_components=n_components)\n",
    "pca.fit_transform(df_array)\n",
    "pca.components_"
   ]
  },
  {
   "cell_type": "code",
   "execution_count": 133,
   "metadata": {},
   "outputs": [
    {
     "data": {
      "text/plain": [
       "array([[ 5.14088116e-01,  1.27952607e+00,  5.05533482e-01,\n",
       "         7.55404486e-01],\n",
       "       [-1.62674550e+00,  2.25503455e+00, -6.31290346e-01,\n",
       "         1.21009682e+00],\n",
       "       [ 1.15620336e+00,  1.63560773e+00, -4.10325021e-01,\n",
       "         5.83715760e-01],\n",
       "       [-5.82899873e-01, -2.09472349e-01,  1.79836612e+00,\n",
       "         1.36164208e+00],\n",
       "       [ 1.64881190e+00,  1.38059839e+00,  1.75536713e+00,\n",
       "         1.18163495e+00],\n",
       "       [ 1.93026803e+00,  2.99798150e+00,  1.33092140e+00,\n",
       "         1.75191074e+00],\n",
       "       [ 6.97801246e-01,  3.24893139e+00,  2.91119620e+00,\n",
       "         7.59494985e-02],\n",
       "       [ 1.05496464e+00,  1.72387773e+00,  2.95018556e+00,\n",
       "         1.64276843e+00],\n",
       "       [ 1.85398923e+00, -2.84918790e-01,  1.26269631e+00,\n",
       "         4.13987381e-01],\n",
       "       [ 1.76551079e+00,  1.99486000e+00,  8.77895411e-01,\n",
       "         1.01684874e+00],\n",
       "       [-8.41906710e-01, -5.40125943e-01, -1.05819023e+00,\n",
       "        -1.00433397e+00],\n",
       "       [ 4.62237692e-01, -3.39988307e-01, -1.06842215e+00,\n",
       "        -7.01614075e-01],\n",
       "       [-3.38807035e-01, -5.38231278e-01, -1.43727301e+00,\n",
       "        -1.36925229e+00],\n",
       "       [ 1.55480988e+00,  2.27842149e+00,  4.00338874e+00,\n",
       "         4.51364810e+00],\n",
       "       [-4.84228260e+00, -4.35148941e+00, -4.53450323e+00,\n",
       "        -5.19829009e+00],\n",
       "       [ 1.40826717e+00,  9.88169287e-01,  1.59203193e+00,\n",
       "         1.92816837e+00],\n",
       "       [ 9.59291390e-01,  8.59926229e-01, -8.61275551e-01,\n",
       "        -2.26054967e-01],\n",
       "       [ 6.66833441e-02,  2.06291029e-01,  2.22217368e-01,\n",
       "         1.09182916e-01],\n",
       "       [-6.95472589e-01, -8.41370139e-02,  2.01137579e-01,\n",
       "         3.85885601e-01],\n",
       "       [ 3.51973252e-01,  4.65706156e-01, -7.04469700e-01,\n",
       "        -5.07073577e-01],\n",
       "       [ 4.51145484e-01,  2.13200363e-01, -1.13167577e+00,\n",
       "        -9.20406501e-01],\n",
       "       [-9.88782122e-01, -6.14864466e-01, -2.08452642e+00,\n",
       "        -2.01575139e+00],\n",
       "       [-8.53157581e-01, -9.86231328e-01,  4.99650982e-01,\n",
       "         7.68637423e-01],\n",
       "       [-2.26204396e+00, -7.68401126e-01,  5.09916142e-01,\n",
       "         2.36925654e-01],\n",
       "       [-2.79917701e+00, -2.21615855e+00, -5.96015680e-01,\n",
       "        -1.39993723e+00],\n",
       "       [-9.69616469e-01, -7.16699817e-01,  2.72435715e+00,\n",
       "         1.64080330e+00],\n",
       "       [-4.68495761e-01,  4.61927506e-01, -2.45607660e+00,\n",
       "        -2.97262592e+00],\n",
       "       [ 7.47075691e-02, -4.56877473e-01, -3.18886432e+00,\n",
       "        -3.77376037e+00],\n",
       "       [ 8.95474465e-01,  8.32047730e-01, -1.73611981e+00,\n",
       "        -1.02940303e+00],\n",
       "       [-3.28358787e+00, -2.57572300e+00, -1.46438003e+00,\n",
       "        -2.46228297e+00],\n",
       "       [-4.10605693e+00, -4.23527935e+00, -1.95381079e+00,\n",
       "        -1.58698079e+00],\n",
       "       [-1.58002767e+00, -1.86393239e+00, -1.72679420e+00,\n",
       "        -1.88773880e+00],\n",
       "       [-2.52498665e+00, -1.88696079e+00, -9.54540567e-02,\n",
       "        -7.82002627e-02],\n",
       "       [-2.66152457e+00, -2.27128535e+00, -2.49069470e+00,\n",
       "        -1.86000286e+00],\n",
       "       [-1.25842771e+00, -6.39837562e-01, -4.52270463e-01,\n",
       "        -5.65922011e-01],\n",
       "       [-2.61968401e-01, -6.17199108e-01, -7.80929276e-01,\n",
       "        -1.53724997e-01],\n",
       "       [-6.93336734e-01, -9.02664122e-01, -2.88126765e-01,\n",
       "        -1.10774031e+00],\n",
       "       [-9.08025007e-01, -1.22631640e+00, -4.53622520e-01,\n",
       "        -1.19912294e+00],\n",
       "       [-5.00098520e-01, -5.66572156e-01, -2.85544306e-01,\n",
       "        -1.06818322e+00],\n",
       "       [ 6.87432703e-02,  2.15951319e-02, -1.33369659e-01,\n",
       "        -1.39319280e-01],\n",
       "       [ 1.15796902e+00,  1.44431109e-01, -1.92204886e-01,\n",
       "         1.85642844e-01],\n",
       "       [ 1.58180063e-01,  5.80858378e-02,  3.47672755e-01,\n",
       "        -2.89672195e-01],\n",
       "       [ 5.57396282e-02,  4.54272559e-01, -3.20362112e-01,\n",
       "         1.04634190e-01],\n",
       "       [ 5.57618334e-01,  3.05799438e-01,  9.39405983e-01,\n",
       "         8.29977784e-02],\n",
       "       [ 7.84183335e-01, -1.20832502e-02,  9.25171531e-01,\n",
       "         9.10264524e-01],\n",
       "       [-1.39655056e-01, -6.60658291e-02,  5.04758318e-01,\n",
       "         6.95518525e-01],\n",
       "       [ 2.97639836e-01,  1.08200482e-01,  3.38330529e-01,\n",
       "         5.62267901e-01],\n",
       "       [ 4.03730821e-01,  6.69070278e-01,  1.39840852e+00,\n",
       "         1.21760852e+00],\n",
       "       [-8.11044150e-01, -8.72625261e-01,  6.03252650e-01,\n",
       "         8.45833994e-01],\n",
       "       [-1.30363996e+00, -9.86263062e-01,  1.32388545e+00,\n",
       "         1.62136906e+00],\n",
       "       [-2.46959091e+00, -1.61868388e+00,  1.28586881e+00,\n",
       "         1.33042631e+00],\n",
       "       [-1.78145995e+00, -1.61991633e+00, -5.49463806e-02,\n",
       "         2.86171217e-01],\n",
       "       [-1.76423020e+00, -1.95644511e+00,  8.55876437e-01,\n",
       "         7.76882804e-01],\n",
       "       [-2.24944829e+00, -1.72993543e+00,  9.19292297e-01,\n",
       "         3.74395939e-01],\n",
       "       [-1.19367575e+00, -9.99488634e-01,  1.85309405e+00,\n",
       "         1.28690489e+00],\n",
       "       [-1.33270619e+00, -8.77869517e-01,  8.73702141e-01,\n",
       "         1.47813033e+00],\n",
       "       [-1.44828468e+00, -8.82422981e-01,  1.05431175e+00,\n",
       "         8.35722120e-01],\n",
       "       [-1.03126861e+00, -1.23518181e+00,  1.33239605e+00,\n",
       "         1.57066489e+00],\n",
       "       [-2.36549211e+00, -2.06240036e+00,  1.32790896e+00,\n",
       "         6.49545793e-01],\n",
       "       [-7.14957181e-01, -1.82157069e+00,  9.57463890e-01,\n",
       "         1.24128418e+00],\n",
       "       [ 1.12990149e+00,  4.97577436e-02, -1.04042397e-01,\n",
       "         7.96452871e-01],\n",
       "       [ 1.52507749e+00,  1.56044472e+00,  1.99824208e+00,\n",
       "         1.72349394e+00],\n",
       "       [ 6.06316059e-01,  5.29867683e-01,  1.11210727e-01,\n",
       "         1.19807193e-01],\n",
       "       [ 1.69687277e-01,  3.64879097e-01,  9.51450579e-01,\n",
       "         2.49159859e-01],\n",
       "       [ 1.28657698e+00,  2.31221522e+00,  1.22417549e+00,\n",
       "         1.76824547e+00],\n",
       "       [ 3.79398343e-01,  5.03200365e-01, -4.33214383e-02,\n",
       "        -6.13794213e-02],\n",
       "       [-1.71055607e-01,  5.19667348e-01, -4.86359686e-01,\n",
       "        -1.89533775e-01],\n",
       "       [-2.22459618e-01, -5.33719737e-01,  3.16336298e-01,\n",
       "        -6.86865052e-03],\n",
       "       [ 6.55935468e-01,  1.58508268e-01, -5.72958612e-01,\n",
       "        -2.15769207e-01],\n",
       "       [ 1.14297927e+00,  5.96111501e-01, -1.41133003e+00,\n",
       "        -2.53568001e-01],\n",
       "       [-5.57724840e-01, -6.74138286e-01, -1.50496214e+00,\n",
       "        -1.25486083e+00],\n",
       "       [ 6.43498504e-02, -7.24975555e-01, -6.52982938e-01,\n",
       "        -8.54331885e-01],\n",
       "       [ 5.62718006e-01,  1.10823378e+00, -7.40553337e-01,\n",
       "         8.42883136e-01],\n",
       "       [-8.19419133e-01,  1.27858964e-01,  4.67087392e-01,\n",
       "         1.61107387e-01],\n",
       "       [-2.82434356e+00, -3.15267796e+00, -3.60469430e+00,\n",
       "        -3.14824118e+00],\n",
       "       [ 4.91444221e-01, -3.43295160e-01, -1.27438563e+00,\n",
       "        -1.39523864e+00],\n",
       "       [-2.17951349e+00, -2.41529208e+00, -2.81718668e+00,\n",
       "        -2.29659672e+00],\n",
       "       [ 2.10754045e-01,  4.43104345e-01,  3.60646044e-01,\n",
       "        -3.34435658e-01],\n",
       "       [-4.66711881e-01, -1.89616768e+00, -1.42957843e+00,\n",
       "        -2.45836217e-01],\n",
       "       [-2.49707598e+00, -2.14507071e+00, -3.15661668e+00,\n",
       "        -2.70767665e+00],\n",
       "       [-7.14850635e-02, -3.87479599e-01, -6.10360269e-01,\n",
       "         6.30041111e-01],\n",
       "       [ 1.51742169e-01,  1.13524316e+00, -5.13890950e-01,\n",
       "        -6.44463272e-01],\n",
       "       [-5.36081658e-01,  1.20177964e+00, -8.02960364e-01,\n",
       "        -9.37940930e-01],\n",
       "       [-1.56606014e-01,  2.67705671e-01, -6.49478287e-01,\n",
       "        -5.87437418e-01],\n",
       "       [-1.00085633e+00, -1.48181886e+00, -1.89444218e+00,\n",
       "        -8.49185359e-01],\n",
       "       [ 3.66105868e-01, -1.49289208e+00, -7.15809577e-01,\n",
       "        -1.50785638e+00],\n",
       "       [ 7.87888256e-02, -8.69565670e-01, -7.20455285e-01,\n",
       "        -9.21667122e-01],\n",
       "       [-6.26253436e-01, -4.11344001e-03, -6.07538883e-01,\n",
       "        -6.61944021e-01],\n",
       "       [-4.13561320e-01, -1.42818916e-01,  8.95528600e-03,\n",
       "        -6.00900992e-01],\n",
       "       [-1.79321449e+00, -1.45044355e+00, -1.17209593e+00,\n",
       "        -9.27125306e-01],\n",
       "       [-1.39816510e-02,  3.10783358e-01,  1.18097997e-01,\n",
       "        -1.73431593e-01],\n",
       "       [ 3.57722474e-01,  3.59197851e-01, -3.59126796e-01,\n",
       "         5.99713397e-01],\n",
       "       [ 1.75126981e-01,  1.04482035e-01,  6.61942995e-01,\n",
       "         1.73202563e-01],\n",
       "       [ 1.27384973e+00,  2.49861480e-01,  1.04141685e+00,\n",
       "         6.88875907e-01],\n",
       "       [ 1.07995838e+00,  5.43056534e-01,  6.56008420e-01,\n",
       "         7.54133111e-01],\n",
       "       [ 2.42750965e+00,  1.88366496e+00,  1.96403504e+00,\n",
       "         2.12421688e+00],\n",
       "       [ 1.68143375e-01,  5.84206672e-01,  5.73270012e-01,\n",
       "         1.75098917e+00],\n",
       "       [ 5.73058394e-01, -8.36424798e-02,  8.01952467e-01,\n",
       "         2.54221869e-01],\n",
       "       [ 2.46555555e+00,  2.86097119e+00,  1.99175223e+00,\n",
       "         2.72000696e+00],\n",
       "       [ 1.22097290e+00,  1.43914700e+00,  1.40569280e+00,\n",
       "         9.90336078e-01],\n",
       "       [ 1.10947095e+00,  7.23034030e-01,  6.54521907e-01,\n",
       "         4.01581478e-01],\n",
       "       [ 2.11418266e+00,  3.53485589e-01,  1.85133649e+00,\n",
       "         1.95678337e+00],\n",
       "       [ 2.78354866e+00,  3.52823955e+00,  2.27808242e+00,\n",
       "         3.14216620e+00],\n",
       "       [ 2.89996307e+00,  4.04466284e+00,  2.68631316e+00,\n",
       "         2.58585968e+00],\n",
       "       [ 3.34430966e+00,  2.47164774e+00,  2.63667413e+00,\n",
       "         1.96589860e+00],\n",
       "       [-3.37129229e-01,  3.27079291e-01,  8.93369039e-01,\n",
       "         1.03322548e+00],\n",
       "       [ 5.43779820e-01,  3.10196320e-01,  4.37934034e-01,\n",
       "         9.48509143e-01],\n",
       "       [ 1.20747528e+00,  1.09546218e+00,  6.46781528e-01,\n",
       "         1.28174507e+00],\n",
       "       [ 9.71298045e-01,  1.78131544e+00,  1.58961930e+00,\n",
       "         8.36725081e-01],\n",
       "       [ 4.78658026e-01,  8.98288872e-01, -2.79485878e-01,\n",
       "         1.61320993e-01],\n",
       "       [ 1.08274120e+00,  3.64884838e-01,  4.91184325e-01,\n",
       "         8.73138148e-01],\n",
       "       [ 4.31649313e-01,  3.45051748e-01,  9.10704020e-01,\n",
       "         1.77580714e-01],\n",
       "       [ 2.40959509e+00,  2.37999386e+00,  1.07978971e+00,\n",
       "         8.78003678e-01],\n",
       "       [ 1.02869671e+00, -8.87812938e-02,  2.54372036e-01,\n",
       "         2.32605417e-01],\n",
       "       [ 1.06964146e+00,  3.53190754e-01,  5.22876959e-01,\n",
       "         5.26987009e-01],\n",
       "       [ 2.38922606e-02, -2.33225119e-01,  2.41328831e-01,\n",
       "        -5.46606641e-01],\n",
       "       [ 2.17596251e-01,  6.40544881e-02, -5.72802033e-01,\n",
       "        -3.02594816e-01],\n",
       "       [-2.67206747e-01, -3.68188369e-01, -1.36757645e+00,\n",
       "        -1.43296216e+00],\n",
       "       [-1.43567667e+00, -1.34206830e+00, -1.10466934e-02,\n",
       "         2.69302622e-01],\n",
       "       [-1.54778449e+00, -2.17555784e+00, -1.75642221e+00,\n",
       "        -1.95708835e+00],\n",
       "       [-1.95839829e+00, -9.79648930e-01, -1.98043579e+00,\n",
       "        -2.39297319e+00],\n",
       "       [-8.29002444e-01, -1.65698077e+00, -6.86191363e-01,\n",
       "        -2.02388474e+00],\n",
       "       [-9.77598384e-01, -1.67459144e+00, -2.18891147e+00,\n",
       "        -2.57861303e+00],\n",
       "       [-1.90542153e+00, -2.38151305e+00, -1.75699145e+00,\n",
       "        -1.49929908e+00],\n",
       "       [-2.07153356e+00, -1.11641224e+00, -3.24274297e+00,\n",
       "        -2.72346927e+00],\n",
       "       [-1.23065488e+00, -1.34416785e+00, -3.03132470e+00,\n",
       "        -2.11419861e+00],\n",
       "       [-1.97138175e+00,  2.49458956e-01, -1.22369153e+00,\n",
       "        -1.62061832e+00],\n",
       "       [ 7.46384290e-02, -3.39318068e-01, -4.79151155e-01,\n",
       "        -8.94483929e-01],\n",
       "       [-9.77981943e-01, -1.04189980e+00, -6.91135111e-01,\n",
       "        -1.31727381e+00],\n",
       "       [ 2.61709495e-01, -8.22543582e-01,  8.96322346e-01,\n",
       "        -8.94618271e-01],\n",
       "       [-1.26515678e+00, -1.14809382e+00,  1.02471210e+00,\n",
       "        -1.78890411e+00],\n",
       "       [-2.19150414e+00, -2.14637565e+00, -1.26164339e+00,\n",
       "        -1.56551404e+00],\n",
       "       [-1.85108621e+00, -1.34431930e+00, -9.65759988e-01,\n",
       "        -2.17567065e+00],\n",
       "       [ 5.87309383e-01,  4.19947185e-01, -1.78331527e-01,\n",
       "         1.65620112e-01],\n",
       "       [ 6.92705299e-01, -8.80159645e-03, -2.70712086e-01,\n",
       "        -7.77051302e-01],\n",
       "       [ 5.41315385e-01,  2.68251581e-01,  6.36966085e-02,\n",
       "        -4.81038290e-01],\n",
       "       [ 9.92342744e-01,  3.23255143e-01, -5.76705945e-01,\n",
       "        -3.64083181e-01],\n",
       "       [-6.45963191e-02,  4.76774895e-01, -4.17842732e-01,\n",
       "        -2.69068378e-01],\n",
       "       [ 8.33872467e-01,  6.58912499e-01,  3.11075800e-01,\n",
       "         4.67828433e-01],\n",
       "       [ 7.90814950e-01, -5.08258779e-02, -1.42997029e-01,\n",
       "         3.63129225e-01],\n",
       "       [ 3.52268985e-01,  6.24855525e-01, -2.69135144e-01,\n",
       "         3.92986777e-01],\n",
       "       [ 4.70723358e-01,  4.55364660e-01,  1.33453242e-01,\n",
       "        -7.30329668e-02],\n",
       "       [ 1.24785855e+00,  1.72583355e+00, -1.73789192e-01,\n",
       "         2.76166471e-01],\n",
       "       [ 1.57867349e+00,  1.47995471e+00,  1.06000209e+00,\n",
       "         9.44021456e-01]])"
      ]
     },
     "execution_count": 133,
     "metadata": {},
     "output_type": "execute_result"
    }
   ],
   "source": [
    "df_array - x_approx"
   ]
  },
  {
   "cell_type": "code",
   "execution_count": null,
   "metadata": {},
   "outputs": [],
   "source": []
  },
  {
   "cell_type": "code",
   "execution_count": null,
   "metadata": {},
   "outputs": [],
   "source": []
  },
  {
   "cell_type": "code",
   "execution_count": null,
   "metadata": {},
   "outputs": [],
   "source": []
  },
  {
   "cell_type": "code",
   "execution_count": null,
   "metadata": {},
   "outputs": [],
   "source": []
  },
  {
   "cell_type": "code",
   "execution_count": null,
   "metadata": {},
   "outputs": [],
   "source": []
  },
  {
   "cell_type": "code",
   "execution_count": null,
   "metadata": {},
   "outputs": [],
   "source": []
  },
  {
   "cell_type": "code",
   "execution_count": null,
   "metadata": {},
   "outputs": [],
   "source": []
  },
  {
   "cell_type": "code",
   "execution_count": null,
   "metadata": {},
   "outputs": [],
   "source": []
  },
  {
   "cell_type": "code",
   "execution_count": null,
   "metadata": {},
   "outputs": [],
   "source": []
  },
  {
   "cell_type": "code",
   "execution_count": null,
   "metadata": {},
   "outputs": [],
   "source": []
  },
  {
   "cell_type": "code",
   "execution_count": 55,
   "metadata": {},
   "outputs": [
    {
     "data": {
      "text/plain": [
       "(array([ 40.53301857, 121.91793835, 180.80431363, 395.74472945]),\n",
       " array([[-0.37422641,  0.68065006,  0.09976357, -0.621866  ],\n",
       "        [ 0.64264284,  0.25728539,  0.72159629,  0.01063961],\n",
       "        [-0.16597904, -0.68491679,  0.40065871, -0.58550197],\n",
       "        [-0.64762314,  0.03753296,  0.55571451,  0.51995858]]))"
      ]
     },
     "execution_count": 55,
     "metadata": {},
     "output_type": "execute_result"
    }
   ],
   "source": [
    "np.linalg.eigh(b.dot(b.T))"
   ]
  },
  {
   "cell_type": "code",
   "execution_count": 56,
   "metadata": {},
   "outputs": [
    {
     "data": {
      "text/plain": [
       "(array([ 40.53301857, 121.91793835, 180.80431363, 395.74472945]),\n",
       " array([[ 0.83238698, -0.38810266, -0.08027444, -0.38738127],\n",
       "        [ 0.31182625,  0.89455329,  0.18152149, -0.2637968 ],\n",
       "        [-0.43770305, -0.15096399,  0.26811659, -0.84483099],\n",
       "        [-0.1353231 ,  0.1623595 , -0.94271918, -0.25808446]]))"
      ]
     },
     "execution_count": 56,
     "metadata": {},
     "output_type": "execute_result"
    }
   ],
   "source": [
    "np.linalg.eigh(b.T.dot(b))"
   ]
  },
  {
   "cell_type": "code",
   "execution_count": 13,
   "metadata": {},
   "outputs": [],
   "source": [
    "a = np.array([[1,2], [3, 4]])"
   ]
  },
  {
   "cell_type": "code",
   "execution_count": 14,
   "metadata": {},
   "outputs": [
    {
     "data": {
      "text/plain": [
       "array([[1, 2],\n",
       "       [3, 4]])"
      ]
     },
     "execution_count": 14,
     "metadata": {},
     "output_type": "execute_result"
    }
   ],
   "source": [
    "a"
   ]
  },
  {
   "cell_type": "code",
   "execution_count": 16,
   "metadata": {},
   "outputs": [
    {
     "data": {
      "text/plain": [
       "array([[ 7, 10],\n",
       "       [15, 22]])"
      ]
     },
     "execution_count": 16,
     "metadata": {},
     "output_type": "execute_result"
    }
   ],
   "source": [
    "a.dot(a)"
   ]
  },
  {
   "cell_type": "code",
   "execution_count": 46,
   "metadata": {},
   "outputs": [],
   "source": [
    "z = np.array([1,2,3,4])"
   ]
  },
  {
   "cell_type": "code",
   "execution_count": 52,
   "metadata": {},
   "outputs": [
    {
     "data": {
      "text/plain": [
       "array([[3, 4],\n",
       "       [1, 2]])"
      ]
     },
     "execution_count": 52,
     "metadata": {},
     "output_type": "execute_result"
    }
   ],
   "source": [
    "np.flipud(a)"
   ]
  },
  {
   "cell_type": "code",
   "execution_count": 18,
   "metadata": {},
   "outputs": [
    {
     "data": {
      "text/plain": [
       "array([-0.37228132,  5.37228132])"
      ]
     },
     "execution_count": 18,
     "metadata": {},
     "output_type": "execute_result"
    }
   ],
   "source": [
    "np.linalg.eigvals(a)"
   ]
  },
  {
   "cell_type": "code",
   "execution_count": 21,
   "metadata": {},
   "outputs": [
    {
     "name": "stderr",
     "output_type": "stream",
     "text": [
      "/home/jacek/.local/share/virtualenvs/machine-learning-W9umnyAZ/lib/python3.6/site-packages/ipykernel_launcher.py:1: RuntimeWarning: invalid value encountered in sqrt\n",
      "  \"\"\"Entry point for launching an IPython kernel.\n"
     ]
    },
    {
     "data": {
      "text/plain": [
       "array([[       nan, 0.        ],\n",
       "       [0.        , 2.31781822]])"
      ]
     },
     "execution_count": 21,
     "metadata": {},
     "output_type": "execute_result"
    }
   ],
   "source": [
    "np.diag(np.sqrt(np.linalg.eigvals(a)))"
   ]
  },
  {
   "cell_type": "code",
   "execution_count": 23,
   "metadata": {},
   "outputs": [
    {
     "data": {
      "text/plain": [
       "array([[0.36596619, 0.        ],\n",
       "       [0.        , 5.4649857 ]])"
      ]
     },
     "execution_count": 23,
     "metadata": {},
     "output_type": "execute_result"
    }
   ],
   "source": [
    "np.diag(np.sqrt(np.linalg.eigvals(a.T.dot(a))))\n"
   ]
  },
  {
   "cell_type": "code",
   "execution_count": 30,
   "metadata": {},
   "outputs": [],
   "source": [
    "b = np.random.randint(-11, 10, size=(4, 4))"
   ]
  },
  {
   "cell_type": "code",
   "execution_count": null,
   "metadata": {},
   "outputs": [],
   "source": []
  },
  {
   "cell_type": "code",
   "execution_count": 39,
   "metadata": {},
   "outputs": [
    {
     "data": {
      "text/plain": [
       "(array([ 40.53301857, 121.91793835, 180.80431363, 395.74472945]),\n",
       " array([[-0.37422641,  0.68065006,  0.09976357, -0.621866  ],\n",
       "        [ 0.64264284,  0.25728539,  0.72159629,  0.01063961],\n",
       "        [-0.16597904, -0.68491679,  0.40065871, -0.58550197],\n",
       "        [-0.64762314,  0.03753296,  0.55571451,  0.51995858]]))"
      ]
     },
     "execution_count": 39,
     "metadata": {},
     "output_type": "execute_result"
    }
   ],
   "source": [
    "np.linalg.eigh(b.dot(b.T), UPLO='L')"
   ]
  },
  {
   "cell_type": "code",
   "execution_count": 41,
   "metadata": {},
   "outputs": [
    {
     "data": {
      "text/plain": [
       "(array([ 40.53301857, 121.91793835, 180.80431363, 395.74472945]),\n",
       " array([[-0.37422641,  0.68065006,  0.09976357, -0.621866  ],\n",
       "        [ 0.64264284,  0.25728539,  0.72159629,  0.01063961],\n",
       "        [-0.16597904, -0.68491679,  0.40065871, -0.58550197],\n",
       "        [-0.64762314,  0.03753296,  0.55571451,  0.51995858]]))"
      ]
     },
     "execution_count": 41,
     "metadata": {},
     "output_type": "execute_result"
    }
   ],
   "source": [
    "np.linalg.eigh(b.dot(b.T))"
   ]
  },
  {
   "cell_type": "code",
   "execution_count": 42,
   "metadata": {},
   "outputs": [
    {
     "data": {
      "text/plain": [
       "(array([395.74472945,  40.53301857, 121.91793835, 180.80431363]),\n",
       " array([[ 0.38738127,  0.83238698, -0.38810266,  0.08027444],\n",
       "        [ 0.2637968 ,  0.31182625,  0.89455329, -0.18152149],\n",
       "        [ 0.84483099, -0.43770305, -0.15096399, -0.26811659],\n",
       "        [ 0.25808446, -0.1353231 ,  0.1623595 ,  0.94271918]]))"
      ]
     },
     "execution_count": 42,
     "metadata": {},
     "output_type": "execute_result"
    }
   ],
   "source": [
    "np.linalg.eig(b.T.dot(b))"
   ]
  },
  {
   "cell_type": "code",
   "execution_count": 31,
   "metadata": {},
   "outputs": [
    {
     "data": {
      "text/plain": [
       "array([[19.89333379,  0.        ,  0.        ,  0.        ],\n",
       "       [ 0.        ,  6.36655469,  0.        ,  0.        ],\n",
       "       [ 0.        ,  0.        , 11.04164564,  0.        ],\n",
       "       [ 0.        ,  0.        ,  0.        , 13.44634945]])"
      ]
     },
     "execution_count": 31,
     "metadata": {},
     "output_type": "execute_result"
    }
   ],
   "source": [
    "np.diag(np.sqrt(np.linalg.eigvals(b.T.dot(b))))"
   ]
  },
  {
   "cell_type": "markdown",
   "metadata": {},
   "source": [
    "## Building the model \n"
   ]
  },
  {
   "cell_type": "code",
   "execution_count": 86,
   "metadata": {},
   "outputs": [],
   "source": [
    "from sklearn.decomposition import PCA\n",
    "df_array = df.to_numpy()"
   ]
  },
  {
   "cell_type": "code",
   "execution_count": 87,
   "metadata": {},
   "outputs": [],
   "source": [
    "def PCA_check(arr: np.array, n_components: int) -> None:\n",
    "    pca = PCA(n_components=n_components)\n",
    "    principalComponents = pca.fit_transform(arr)\n",
    "    df_principal_components = pd.DataFrame(data = principalComponents)\n",
    "    df_reconstruction = pca.inverse_transform(df_principal_components)\n",
    "    mse = ((df_reconstruction - arr) ** 2).mean()\n",
    "    print(f'Componenent number = {n_components}\\nReconstruction MSE = {mse}')"
   ]
  },
  {
   "cell_type": "code",
   "execution_count": 88,
   "metadata": {},
   "outputs": [
    {
     "name": "stdout",
     "output_type": "stream",
     "text": [
      "Componenent number = 3\n",
      "Reconstruction MSE = 0.028070367550698708\n"
     ]
    }
   ],
   "source": [
    "n_components = 3\n",
    "PCA_check(df_array, n_components)"
   ]
  },
  {
   "cell_type": "code",
   "execution_count": 89,
   "metadata": {},
   "outputs": [
    {
     "name": "stdout",
     "output_type": "stream",
     "text": [
      "Componenent number = 2\n",
      "Reconstruction MSE = 0.06450170281888937\n"
     ]
    }
   ],
   "source": [
    "n_components = 2\n",
    "PCA_check(df_array, n_components)"
   ]
  },
  {
   "cell_type": "code",
   "execution_count": 90,
   "metadata": {},
   "outputs": [
    {
     "name": "stdout",
     "output_type": "stream",
     "text": [
      "Componenent number = 1\n",
      "Reconstruction MSE = 0.2322954610395971\n"
     ]
    }
   ],
   "source": [
    "n_components = 1\n",
    "PCA_check(df_array, n_components)"
   ]
  },
  {
   "cell_type": "markdown",
   "metadata": {},
   "source": [
    "### Looking closer to the 3 component PCA"
   ]
  },
  {
   "cell_type": "code",
   "execution_count": 105,
   "metadata": {},
   "outputs": [],
   "source": [
    "n_components = 3\n",
    "pca = PCA(n_components=n_components)\n",
    "principalComponents = pca.fit_transform(df_array)\n",
    "df_principal_components = pd.DataFrame(data = principalComponents)\n",
    "df_reconstruction = pca.inverse_transform(df_principal_components)"
   ]
  },
  {
   "cell_type": "code",
   "execution_count": 116,
   "metadata": {},
   "outputs": [
    {
     "data": {
      "text/plain": [
       "Index(['FrontLeft', 'FrontRight', 'BackLeft', 'BackRight'], dtype='object')"
      ]
     },
     "metadata": {},
     "output_type": "display_data"
    },
    {
     "data": {
      "text/plain": [
       "array([[ 0.49127375,  0.50211307,  0.49486494,  0.51150881],\n",
       "       [-0.5308801 , -0.47235221,  0.53968805,  0.4514272 ],\n",
       "       [ 0.68995833, -0.71672467,  0.09011509, -0.04628735]])"
      ]
     },
     "execution_count": 116,
     "metadata": {},
     "output_type": "execute_result"
    }
   ],
   "source": [
    "display(df.columns)\n",
    "pca.components_  # principal axes in feature space, size = (n_components, n_features)"
   ]
  },
  {
   "cell_type": "markdown",
   "metadata": {},
   "source": [
    "We can see above that the **first** prinicipal axis is explaining mean temperture, the **second** one front vs back relation, and the **third** one left vs right focused on the front."
   ]
  },
  {
   "cell_type": "code",
   "execution_count": 111,
   "metadata": {},
   "outputs": [
    {
     "data": {
      "text/plain": [
       "array([3.06432038, 0.67586856, 0.1467444 ])"
      ]
     },
     "execution_count": 111,
     "metadata": {},
     "output_type": "execute_result"
    }
   ],
   "source": [
    "pca.explained_variance_  # The amount of variance explained by each of the selected components."
   ]
  },
  {
   "cell_type": "code",
   "execution_count": 112,
   "metadata": {},
   "outputs": [
    {
     "data": {
      "text/plain": [
       "array([0.7660801 , 0.16896714, 0.0366861 ])"
      ]
     },
     "execution_count": 112,
     "metadata": {},
     "output_type": "execute_result"
    }
   ],
   "source": [
    "pca.explained_variance_ratio_  # Percentage of variance explained by each of the selected components."
   ]
  },
  {
   "cell_type": "code",
   "execution_count": 113,
   "metadata": {},
   "outputs": [
    {
     "data": {
      "text/plain": [
       "array([20.93317497,  9.83103274,  4.58087864])"
      ]
     },
     "execution_count": 113,
     "metadata": {},
     "output_type": "execute_result"
    }
   ],
   "source": [
    "pca.singular_values_  # The singular values corresponding to each of the selected components."
   ]
  },
  {
   "cell_type": "markdown",
   "metadata": {},
   "source": [
    "## Time series of the first two components and all readinings"
   ]
  },
  {
   "cell_type": "code",
   "execution_count": 147,
   "metadata": {},
   "outputs": [
    {
     "data": {
      "image/png": "[encoded data removed]",
      "text/plain": [
       "<Figure size 720x720 with 6 Axes>"
      ]
     },
     "metadata": {},
     "output_type": "display_data"
    }
   ],
   "source": [
    "df_combined = df.copy()\n",
    "df_combined['FirstComponent'] = df_principal_components.set_index(df_combined.index).iloc[:,0]\n",
    "df_combined['SecondComponent'] = df_principal_components.set_index(df_combined.index).iloc[:,1]\n",
    "df_combined.plot(subplots=True, figsize=(10, 10))\n",
    "plt.show()"
   ]
  },
  {
   "cell_type": "markdown",
   "metadata": {},
   "source": [
    "We can see that the first component shows mean of the reading (mostly of the front ones) and the second component track the difference between front and the back."
   ]
  },
  {
   "cell_type": "markdown",
   "metadata": {},
   "source": [
    "## Bar plot of the loadings for the second component"
   ]
  },
  {
   "cell_type": "code",
   "execution_count": 145,
   "metadata": {},
   "outputs": [
    {
     "data": {
      "image/png": "[encoded data removed]",
      "text/plain": [
       "<Figure size 432x288 with 1 Axes>"
      ]
     },
     "metadata": {},
     "output_type": "display_data"
    }
   ],
   "source": [
    "sns.barplot(df.columns, pca.components_[1])\n",
    "plt.show()"
   ]
  },
  {
   "cell_type": "markdown",
   "metadata": {},
   "source": [
    "## I couldn't find any easy to apply brushing/linking tool for jupyter so I will skip this part :("
   ]
  },
  {
   "cell_type": "code",
   "execution_count": null,
   "metadata": {},
   "outputs": [],
   "source": []
  },
  {
   "cell_type": "code",
   "execution_count": null,
   "metadata": {},
   "outputs": [],
   "source": []
  },
  {
   "cell_type": "code",
   "execution_count": null,
   "metadata": {},
   "outputs": [],
   "source": []
  },
  {
   "cell_type": "code",
   "execution_count": null,
   "metadata": {},
   "outputs": [],
   "source": []
  },
  {
   "cell_type": "code",
   "execution_count": null,
   "metadata": {},
   "outputs": [],
   "source": [
    "z"
   ]
  }
 ],
 "metadata": {
  "kernelspec": {
   "display_name": "machine-learning",
   "language": "python",
   "name": "machine-learning"
  },
  "language_info": {
   "codemirror_mode": {
    "name": "ipython",
    "version": 3
   },
   "file_extension": ".py",
   "mimetype": "text/x-python",
   "name": "python",
   "nbconvert_exporter": "python",
   "pygments_lexer": "ipython3",
   "version": "3.6.7"
  }
 },
 "nbformat": 4,
 "nbformat_minor": 2
}
